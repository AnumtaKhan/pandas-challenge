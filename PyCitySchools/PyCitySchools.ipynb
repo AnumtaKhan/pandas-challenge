{
 "cells": [
  {
   "cell_type": "code",
   "execution_count": null,
   "metadata": {},
   "outputs": [],
   "source": [
    "# Set Dependencies\n",
    "import pandas as pd"
   ]
  },
  {
   "cell_type": "code",
   "execution_count": null,
   "metadata": {},
   "outputs": [],
   "source": [
    "# Load the Files for school and students\n",
    "school_data_to_load = \"Resources/schools_complete.csv\"\n",
    "student_data_to_load = \"Resources/students_complete.csv\""
   ]
  },
  {
   "cell_type": "code",
   "execution_count": null,
   "metadata": {},
   "outputs": [],
   "source": [
    "# Read School and Student Data File and store into Pandas DataFrames\n",
    "school_data = pd.read_csv(school_data_to_load)\n",
    "student_data = pd.read_csv(student_data_to_load)\n",
    "\n",
    "# Combine the data into a single dataset.  \n",
    "merged_school_data = pd.merge(student_data, school_data, how=\"left\", on=[\"school_name\", \"school_name\"])\n",
    "merged_school_data.head()"
   ]
  },
  {
   "cell_type": "code",
   "execution_count": null,
   "metadata": {},
   "outputs": [],
   "source": [
    "# District Summary"
   ]
  },
  {
   "cell_type": "code",
   "execution_count": null,
   "metadata": {},
   "outputs": [],
   "source": [
    "# Compute total unique schools\n",
    "school_count = merged_school_data[\"school_name\"].nunique()"
   ]
  },
  {
   "cell_type": "code",
   "execution_count": null,
   "metadata": {},
   "outputs": [],
   "source": [
    "# Compute total students\n",
    "student_count = merged_school_data[\"Student ID\"].nunique()"
   ]
  },
  {
   "cell_type": "code",
   "execution_count": null,
   "metadata": {},
   "outputs": [],
   "source": [
    "# Compute total budget\n",
    "total_budget = school_data[\"budget\"].sum()"
   ]
  },
  {
   "cell_type": "code",
   "execution_count": null,
   "metadata": {},
   "outputs": [],
   "source": [
    "# Compute average math score\n",
    "average_math_score = student_data[\"math_score\"].mean()"
   ]
  },
  {
   "cell_type": "code",
   "execution_count": null,
   "metadata": {},
   "outputs": [],
   "source": [
    "# Compute average reading score\n",
    "average_reading_score = student_data[\"reading_score\"].mean()"
   ]
  },
  {
   "cell_type": "code",
   "execution_count": null,
   "metadata": {},
   "outputs": [],
   "source": [
    "# Compute percentage of students who passed math (greather than or equal to 70)\n",
    "passing_math_count = merged_school_data[(merged_school_data[\"math_score\"] >= 70)].count()[\"student_name\"]\n",
    "passing_math_percentage = passing_math_count / float(student_count) * 100"
   ]
  },
  {
   "cell_type": "code",
   "execution_count": null,
   "metadata": {},
   "outputs": [],
   "source": [
    "# Compute percentage of students who passed reading (greather than or equal to 70)\n",
    "passing_reading_count = merged_school_data[(merged_school_data[\"reading_score\"] >= 70)].count()[\"student_name\"]\n",
    "passing_reading_percentage = passing_reading_count / float(student_count) * 100"
   ]
  },
  {
   "cell_type": "code",
   "execution_count": null,
   "metadata": {},
   "outputs": [],
   "source": [
    "# Compute percentage of students who passed math AND reading\n",
    "passing_math_and_reading_count = merged_school_data[(merged_school_data[\"math_score\"] >= 70) & (merged_school_data[\"reading_score\"] >= 70)\n",
    "].count()[\"student_name\"]\n",
    "overall_passing_percentage = passing_math_and_reading_count /  float(student_count) * 100"
   ]
  },
  {
   "cell_type": "code",
   "execution_count": null,
   "metadata": {},
   "outputs": [],
   "source": [
    "# Create a high-level snapshot of the district's key metrics in a DataFrame\n",
    "district_summary = pd.DataFrame({\"Total Schools\"           :[school_count], \n",
    "                                 \"Total Students\"          :[student_count],\n",
    "                                 \"Total Budget\"            :[total_budget], \n",
    "                                 \"Average Math Score\"      :[average_math_score],\n",
    "                                 \"Average Reading Score\"   :[average_reading_score], \n",
    "                                 \"% Passing Math\"          :passing_math_percentage,\n",
    "                                 \"% Reading\"               :passing_reading_percentage, \n",
    "                                 \"% Overall Passing\"       :overall_passing_percentage})\n",
    "\n",
    "# Apply Formatting\n",
    "district_summary[\"Total Students\"] = district_summary[\"Total Students\"].map(\"{:,}\".format)\n",
    "district_summary[\"Total Budget\"] = district_summary[\"Total Budget\"].map(\"${:,.2f}\".format)\n",
    "\n",
    "district_summary"
   ]
  },
  {
   "cell_type": "code",
   "execution_count": null,
   "metadata": {},
   "outputs": [],
   "source": [
    "# School Summary"
   ]
  },
  {
   "cell_type": "code",
   "execution_count": null,
   "metadata": {},
   "outputs": [],
   "source": [
    "# Compute the School name and School type\n",
    "school_types = school_data.set_index([\"school_name\"])[\"type\"]"
   ]
  },
  {
   "cell_type": "code",
   "execution_count": null,
   "metadata": {},
   "outputs": [],
   "source": [
    "# Compute the total # of students per school\n",
    "per_school_counts = school_data.set_index([\"school_name\"])[\"size\"]"
   ]
  },
  {
   "cell_type": "code",
   "execution_count": null,
   "metadata": {},
   "outputs": [],
   "source": [
    "# Calculate the total school budget and per capita spending\n",
    "per_school_budget = merged_school_data.groupby([\"school_name\"]).mean()[\"budget\"]\n",
    "per_school_capita = per_school_budget / per_school_counts"
   ]
  },
  {
   "cell_type": "code",
   "execution_count": null,
   "metadata": {},
   "outputs": [],
   "source": [
    "# Compute average math and reading scores per school\n",
    "average_math_scores_per_school = merged_school_data.groupby([\"school_name\"]).mean()[\"math_score\"]\n",
    "average_reading_scores_per_school = merged_school_data.groupby([\"school_name\"]).mean()[\"reading_score\"]"
   ]
  },
  {
   "cell_type": "code",
   "execution_count": null,
   "metadata": {},
   "outputs": [],
   "source": [
    "# Compute the # of students passing math and # of students passing reading per school\n",
    "students_passing_math = merged_school_data[merged_school_data[\"math_score\"] >= 70].groupby(\"school_name\").count()[\"Student ID\"]\n",
    "students_passing_reading = merged_school_data[merged_school_data[\"reading_score\"] >= 70].groupby(\"school_name\").count()[\"Student ID\"]"
   ]
  },
  {
   "cell_type": "code",
   "execution_count": null,
   "metadata": {},
   "outputs": [],
   "source": [
    "# Compute the % of students passing math and % of students passing reading per school\n",
    "percent_of_students_passing_math = students_passing_math / per_school_counts * 100\n",
    "percent_of_students_passing_reading = students_passing_reading / per_school_counts * 100"
   ]
  },
  {
   "cell_type": "code",
   "execution_count": null,
   "metadata": {},
   "outputs": [],
   "source": [
    "# Compute percentage of students who passed math AND reading per school\n",
    "math_and_reading_passing_scores = merged_school_data[(merged_school_data[\"reading_score\"] >= 70) & (merged_school_data[\"math_score\"] >= 70)]\n",
    "\n",
    "overall_passing_percentage_per_school = math_and_reading_passing_scores.groupby([\"school_name\"]).count()[\"student_name\"] / per_school_counts * 100"
   ]
  },
  {
   "cell_type": "code",
   "execution_count": null,
   "metadata": {},
   "outputs": [],
   "source": [
    "# Create a DataFrame called `per_school_summary`\n",
    "per_school_summary = pd.DataFrame({\"School Type\"             : school_types, \n",
    "                                   \"Total Students\"          : per_school_counts, \n",
    "                                   \"Total School Budget\"     : per_school_budget, \n",
    "                                   \"Per Student Budget\"      : per_school_capita,\n",
    "                                   \"Average Math Score\"      : average_math_scores_per_school, \n",
    "                                   \"Average Reading Score\"   : average_reading_scores_per_school,\n",
    "                                   \"% Passing Math\"          : percent_of_students_passing_math, \n",
    "                                   \"% Passing Reading\"       : percent_of_students_passing_reading,\n",
    "                                   \"% Overall Passing\"       : overall_passing_percentage_per_school})  \n",
    "\n",
    "# Apply Formatting\n",
    "per_school_summary[\"Total School Budget\"] = per_school_summary[\"Total School Budget\"].map(\"${:,.2f}\".format)\n",
    "per_school_summary[\"Per Student Budget\"] = per_school_summary[\"Per Student Budget\"].map(\"${:,.2f}\".format)\n",
    "\n",
    "# Display DataFrame\n",
    "per_school_summary"
   ]
  },
  {
   "cell_type": "code",
   "execution_count": null,
   "metadata": {},
   "outputs": [],
   "source": [
    "#  Highest-Performing Schools (by % Overall Passing)"
   ]
  },
  {
   "cell_type": "code",
   "execution_count": null,
   "metadata": {},
   "outputs": [],
   "source": [
    "# Sort the schools by % Overall Passing in descending order\n",
    "top_schools = per_school_summary.sort_values(\"% Overall Passing\", ascending=False)\n",
    "\n",
    "# Display DataFrame (top 5 rows)\n",
    "top_schools.head(5)"
   ]
  },
  {
   "cell_type": "code",
   "execution_count": null,
   "metadata": {},
   "outputs": [],
   "source": [
    "#  Bottom Performing Schools (By % Overall Passing)"
   ]
  },
  {
   "cell_type": "code",
   "execution_count": null,
   "metadata": {},
   "outputs": [],
   "source": [
    "# Sort the schools by % Overall Passing in ascending  order\n",
    "bottom_schools = per_school_summary.sort_values(\"% Overall Passing\")\n",
    "\n",
    "# Display DataFrame (top 5 rows)\n",
    "bottom_schools.head(5)"
   ]
  },
  {
   "cell_type": "code",
   "execution_count": null,
   "metadata": {},
   "outputs": [],
   "source": [
    "#  Math Scores by Grade"
   ]
  },
  {
   "cell_type": "code",
   "execution_count": null,
   "metadata": {},
   "outputs": [],
   "source": [
    "# Compute the average math score for students of each grade level\n",
    "ninth_graders = merged_school_data[(merged_school_data[\"grade\"] == \"9th\")]\n",
    "tenth_graders = merged_school_data[(merged_school_data[\"grade\"] == \"10th\")]\n",
    "eleventh_graders = merged_school_data[(merged_school_data[\"grade\"] == \"11th\")]\n",
    "twelfth_graders = merged_school_data[(merged_school_data[\"grade\"] == \"12th\")]\n",
    "\n",
    "# Group by \"school_name\" and take the mean of each\n",
    "ninth_graders_scores = ninth_graders.groupby(\"school_name\").mean()\n",
    "tenth_graders_scores = tenth_graders.groupby(\"school_name\").mean()\n",
    "eleventh_graders_scores = eleventh_graders.groupby(\"school_name\").mean()\n",
    "twelfth_graders_scores = twelfth_graders.groupby(\"school_name\").mean()\n",
    "\n",
    "# Select only the math_score\n",
    "ninth_grade_math_scores = ninth_graders_scores[\"math_score\"]\n",
    "tenth_grader_math_scores = tenth_graders_scores[\"math_score\"]\n",
    "eleventh_grader_math_scores = eleventh_graders_scores.mean()[\"math_score\"]\n",
    "twelfth_grader_math_scores = twelfth_graders_scores[\"math_score\"]\n",
    "\n",
    "# Combine each of the scores above into single DataFrame\n",
    "math_scores_by_grade = pd.DataFrame({\"9th\"    : ninth_grade_math_scores, \n",
    "                                     \"10th\"   : tenth_grader_math_scores, \n",
    "                                     \"11th\"   : eleventh_grader_math_scores,\n",
    "                                     \"12th\"   : twelfth_grader_math_scores})  \n",
    "\n",
    "# Minor data wrangling\n",
    "math_scores_by_grade.index.name = None\n",
    "\n",
    "# Display the DataFrame\n",
    "math_scores_by_grade\n"
   ]
  },
  {
   "cell_type": "code",
   "execution_count": null,
   "metadata": {},
   "outputs": [],
   "source": [
    "#  Reading Scores by Grade"
   ]
  },
  {
   "cell_type": "code",
   "execution_count": null,
   "metadata": {},
   "outputs": [],
   "source": [
    "# Compute the average reading score for students of each grade level\n",
    "ninth_graders = merged_school_data[(merged_school_data[\"grade\"] == \"9th\")]\n",
    "tenth_graders = merged_school_data[(merged_school_data[\"grade\"] == \"10th\")]\n",
    "eleventh_graders = merged_school_data[(merged_school_data[\"grade\"] == \"11th\")]\n",
    "twelfth_graders = merged_school_data[(merged_school_data[\"grade\"] == \"12th\")]\n",
    "\n",
    "# Group by \"school_name\" and take the mean of each.\n",
    "ninth_graders_scores = ninth_graders.groupby(\"school_name\").mean()\n",
    "tenth_graders_scores = tenth_graders.groupby(\"school_name\").mean()\n",
    "eleventh_graders_scores = eleventh_graders.groupby(\"school_name\").mean()\n",
    "twelfth_graders_scores = twelfth_graders.groupby(\"school_name\").mean()\n",
    "\n",
    "# Select only the reading_score.\n",
    "ninth_grade_reading_scores = ninth_graders_scores[\"reading_score\"]\n",
    "tenth_grader_reading_scores = tenth_graders_scores[\"reading_score\"]\n",
    "eleventh_grader_reading_scores = eleventh_graders_scores.mean()[\"reading_score\"]\n",
    "twelfth_grader_reading_scores = twelfth_graders_scores[\"reading_score\"]\n",
    "\n",
    "# Combine each of the scores above into single DataFrame\n",
    "reading_scores_by_grade = pd.DataFrame({\"9th\"    : ninth_grade_reading_scores, \n",
    "                                        \"10th\"   : tenth_grader_reading_scores, \n",
    "                                        \"11th\"   : eleventh_grader_reading_scores,\n",
    "                                        \"12th\"   : twelfth_grader_reading_scores})  \n",
    "\n",
    "# Minor data wrangling\n",
    "reading_scores_by_grade = reading_scores_by_grade[[\"9th\", \"10th\", \"11th\", \"12th\"]]\n",
    "reading_scores_by_grade.index.name = None\n",
    "\n",
    "# Display the DataFrame\n",
    "reading_scores_by_grade"
   ]
  },
  {
   "cell_type": "code",
   "execution_count": null,
   "metadata": {},
   "outputs": [],
   "source": [
    "#  Scores by School Spending"
   ]
  },
  {
   "cell_type": "code",
   "execution_count": null,
   "metadata": {},
   "outputs": [],
   "source": [
    "# Establish bins \n",
    "spending_bins = [0, 585, 630, 645, 680]\n",
    "labels = [\"<$585\", \"$585-630\", \"$630-645\", \"$645-680\"]"
   ]
  },
  {
   "cell_type": "code",
   "execution_count": null,
   "metadata": {},
   "outputs": [],
   "source": [
    "# Create a copy of the school summary\n",
    "school_spending_df = per_school_summary.copy()"
   ]
  },
  {
   "cell_type": "code",
   "execution_count": null,
   "metadata": {},
   "outputs": [],
   "source": [
    "# Categorize spending based on the bins\n",
    "\n",
    "school_spending_df[\"Spending Ranges (Per Student)\"] = pd.cut(per_school_capita, spending_bins, labels=labels)\n",
    "school_spending_df"
   ]
  },
  {
   "cell_type": "code",
   "execution_count": null,
   "metadata": {},
   "outputs": [],
   "source": [
    "# Compute averages for the desired columns\n",
    "spending_math_scores = school_spending_df.groupby([\"Spending Ranges (Per Student)\"]).mean()[\"Average Math Score\"]\n",
    "spending_reading_scores = school_spending_df.groupby([\"Spending Ranges (Per Student)\"]).mean()[\"Average Reading Score\"]\n",
    "spending_passing_math = school_spending_df.groupby([\"Spending Ranges (Per Student)\"]).mean()[\"% Passing Math\"]\n",
    "spending_passing_reading = school_spending_df.groupby([\"Spending Ranges (Per Student)\"]).mean()[\"% Passing Reading\"]\n",
    "overall_passing_spending = school_spending_df.groupby([\"Spending Ranges (Per Student)\"]).mean()[\"% Overall Passing\"]"
   ]
  },
  {
   "cell_type": "code",
   "execution_count": null,
   "metadata": {},
   "outputs": [],
   "source": [
    "# Assemble into DataFrame\n",
    "spending_summary = school_spending_df[[\"Average Math Score\",\"Average Reading Score\",\"% Passing Math\",\"% Passing Reading\", \"% Overall Passing\"]]\n",
    "\n",
    "# Create a dataframe called spending_summary\n",
    "spending_summary = pd.DataFrame({\"Average Math Score\"        :spending_math_scores,\n",
    "                                 \"Average Reading Score\"     :spending_reading_scores,\n",
    "                                 \"% Passing Math\"            :spending_passing_math,\n",
    "                                 \"% Passing Reading\"         :spending_passing_reading,\n",
    "                                 \"% Overall Passing\"         :overall_passing_spending}) \n",
    "\n",
    "# Display Scores grouped by School Spending\n",
    "spending_summary"
   ]
  },
  {
   "cell_type": "code",
   "execution_count": null,
   "metadata": {},
   "outputs": [],
   "source": [
    "#  Scores by School Size"
   ]
  },
  {
   "cell_type": "code",
   "execution_count": null,
   "metadata": {},
   "outputs": [],
   "source": [
    "# Establish bins.\n",
    "size_bins = [0, 1000, 2000, 5000]\n",
    "labels = [\"Small (<1000)\", \"Medium (1000-2000)\", \"Large (2000-5000)\"]"
   ]
  },
  {
   "cell_type": "code",
   "execution_count": null,
   "metadata": {},
   "outputs": [],
   "source": [
    "# Categorize spending based on the bins\n",
    "\n",
    "per_school_summary[\"School Size\"] = pd.cut(per_school_counts, size_bins, labels=labels)\n",
    "per_school_summary"
   ]
  },
  {
   "cell_type": "code",
   "execution_count": null,
   "metadata": {},
   "outputs": [],
   "source": [
    "# Compute averages for the desired columns. \n",
    "size_math_scores = per_school_summary.groupby([\"School Size\"]).mean()[\"Average Math Score\"]\n",
    "size_reading_scores = per_school_summary.groupby([\"School Size\"]).mean()[\"Average Reading Score\"]\n",
    "size_passing_math = per_school_summary.groupby([\"School Size\"]).mean()[\"% Passing Math\"]\n",
    "size_passing_reading = per_school_summary.groupby([\"School Size\"]).mean()[\"% Passing Reading\"]\n",
    "size_overall_passing = per_school_summary.groupby([\"School Size\"]).mean()[\"% Overall Passing\"]"
   ]
  },
  {
   "cell_type": "code",
   "execution_count": null,
   "metadata": {},
   "outputs": [],
   "source": [
    "# Assemble into DataFrame\n",
    "size_summary = school_spending_df[[\"Average Math Score\",\"Average Reading Score\",\"% Passing Math\",\"% Passing Reading\", \"% Overall Passing\"]]\n",
    "\n",
    "# Create a dataframe called spending_summary\n",
    "size_summary = pd.DataFrame({\"Average Math Score\"        :size_math_scores,\n",
    "                             \"Average Reading Score\"     :size_reading_scores,\n",
    "                             \"% Passing Math\"            :size_passing_math,\n",
    "                             \"% Passing Reading\"         :size_passing_reading,\n",
    "                             \"% Overall Passing\"         :size_overall_passing}) \n",
    "\n",
    "# Display Scores grouped by School Spending\n",
    "size_summary"
   ]
  },
  {
   "cell_type": "code",
   "execution_count": null,
   "metadata": {},
   "outputs": [],
   "source": [
    "#  Scores by School Type"
   ]
  },
  {
   "cell_type": "code",
   "execution_count": null,
   "metadata": {},
   "outputs": [],
   "source": [
    "# Group the per_school_summary DataFrame by \"School Type\" and compute average\n",
    "type_math_scores = per_school_summary.groupby([\"School Type\"]).mean()['Average Math Score']\n",
    "type_reading_scores = per_school_summary.groupby([\"School Type\"]).mean()['Average Reading Score']\n",
    "type_passing_math = per_school_summary.groupby([\"School Type\"]).mean()['% Passing Math']\n",
    "type_passing_reading = per_school_summary.groupby([\"School Type\"]).mean()['% Passing Reading']\n",
    "type_overall_passing = per_school_summary.groupby([\"School Type\"]).mean()['% Overall Passing']"
   ]
  },
  {
   "cell_type": "code",
   "execution_count": null,
   "metadata": {},
   "outputs": [],
   "source": [
    "# Assemble into DataFrame\n",
    "type_summary = per_school_summary[[\"Average Math Score\",\"Average Reading Score\",\"% Passing Math\",\"% Passing Reading\", \"% Overall Passing\"]]\n",
    "\n",
    "# Create a dataframe called type_summary\n",
    "type_summary = pd.DataFrame({\"Average Math Score\"            :type_math_scores, \n",
    "                             \"Average Reading Score\"         :type_reading_scores,\n",
    "                             \"% Passing Math\"                :type_passing_math,\n",
    "                             \"% Passing Reading\"             :type_passing_reading,\n",
    "                             \"% Overall Passing\"             :type_overall_passing}) \n",
    "\n",
    "# Display Scores grouped by School Type\n",
    "type_summary"
   ]
  },
  {
   "cell_type": "code",
   "execution_count": null,
   "metadata": {},
   "outputs": [],
   "source": []
  }
 ],
 "metadata": {
  "kernelspec": {
   "display_name": "Python 3 (ipykernel)",
   "language": "python",
   "name": "python3"
  },
  "language_info": {
   "codemirror_mode": {
    "name": "ipython",
    "version": 3
   },
   "file_extension": ".py",
   "mimetype": "text/x-python",
   "name": "python",
   "nbconvert_exporter": "python",
   "pygments_lexer": "ipython3",
   "version": "3.9.13"
  },
  "vscode": {
   "interpreter": {
    "hash": "eebe9316519ef5f97a3db21ed379efa3f8f7101e45072a863b0fb780508e0ce2"
   }
  }
 },
 "nbformat": 4,
 "nbformat_minor": 2
}
